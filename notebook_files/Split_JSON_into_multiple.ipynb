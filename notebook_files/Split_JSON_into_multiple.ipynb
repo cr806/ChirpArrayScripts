{
 "cells": [
  {
   "cell_type": "code",
   "execution_count": 1,
   "metadata": {},
   "outputs": [],
   "source": [
    "import json\n",
    "\n",
    "from pathlib import Path"
   ]
  },
  {
   "cell_type": "code",
   "execution_count": 2,
   "metadata": {},
   "outputs": [
    {
     "name": "stdout",
     "output_type": "stream",
     "text": [
      "Number of dictionaries: 155\n",
      "Saved 12 dictionaries to /Volumes/krauss/Lisa/GMR/Array/250206/Experiment_1_ethanol/loc2_1/ROI_SU000001_1.json\n",
      "Saved 11 dictionaries to /Volumes/krauss/Lisa/GMR/Array/250206/Experiment_1_ethanol/loc2_1/ROI_SU000001_2.json\n",
      "Saved 11 dictionaries to /Volumes/krauss/Lisa/GMR/Array/250206/Experiment_1_ethanol/loc2_1/ROI_SU000001_3.json\n",
      "Saved 11 dictionaries to /Volumes/krauss/Lisa/GMR/Array/250206/Experiment_1_ethanol/loc2_1/ROI_SU000001_4.json\n",
      "Saved 11 dictionaries to /Volumes/krauss/Lisa/GMR/Array/250206/Experiment_1_ethanol/loc2_1/ROI_SU000001_5.json\n",
      "Saved 11 dictionaries to /Volumes/krauss/Lisa/GMR/Array/250206/Experiment_1_ethanol/loc2_1/ROI_SU000001_6.json\n",
      "Saved 11 dictionaries to /Volumes/krauss/Lisa/GMR/Array/250206/Experiment_1_ethanol/loc2_1/ROI_SU000001_7.json\n",
      "Saved 11 dictionaries to /Volumes/krauss/Lisa/GMR/Array/250206/Experiment_1_ethanol/loc2_1/ROI_SU000001_8.json\n",
      "Saved 11 dictionaries to /Volumes/krauss/Lisa/GMR/Array/250206/Experiment_1_ethanol/loc2_1/ROI_SU000001_9.json\n",
      "Saved 11 dictionaries to /Volumes/krauss/Lisa/GMR/Array/250206/Experiment_1_ethanol/loc2_1/ROI_SU000001_10.json\n",
      "Saved 11 dictionaries to /Volumes/krauss/Lisa/GMR/Array/250206/Experiment_1_ethanol/loc2_1/ROI_SU000001_11.json\n",
      "Saved 11 dictionaries to /Volumes/krauss/Lisa/GMR/Array/250206/Experiment_1_ethanol/loc2_1/ROI_SU000001_12.json\n",
      "Saved 11 dictionaries to /Volumes/krauss/Lisa/GMR/Array/250206/Experiment_1_ethanol/loc2_1/ROI_SU000001_13.json\n",
      "Saved 11 dictionaries to /Volumes/krauss/Lisa/GMR/Array/250206/Experiment_1_ethanol/loc2_1/ROI_SU000001_14.json\n"
     ]
    }
   ],
   "source": [
    "num_of_files = 14\n",
    "\n",
    "input_json_path = Path('/Volumes/krauss/Lisa/GMR/Array/250206/Experiment_1_ethanol/loc2_1')\n",
    "data_json_name = Path('ROI_SU000001.json')\n",
    "\n",
    "output_path = input_json_path\n",
    "output_path.mkdir(parents=True, exist_ok=True)\n",
    "\n",
    "with Path(input_json_path, data_json_name).open('r') as f:\n",
    "    data = json.load(f)\n",
    "\n",
    "items = list(data.items())\n",
    "total = len(items)\n",
    "print(f'Number of dictionaries: {total}')\n",
    "\n",
    "base_size = total // num_of_files\n",
    "remainder = total % num_of_files\n",
    "split_sizes = [base_size + (1 if i < remainder else 0)\n",
    "               for i in range(num_of_files)]\n",
    "\n",
    "# Split the items into three chunks\n",
    "chunks = []\n",
    "start = 0\n",
    "for size in split_sizes:\n",
    "    end = start + size\n",
    "    chunks.append(dict(items[start:end]))\n",
    "    start = end\n",
    "\n",
    "# Save each chunk to a separate JSON file\n",
    "for i, chunk in enumerate(chunks, 1):\n",
    "    output_file = Path(output_path, f'{data_json_name.stem}_{i}.json')\n",
    "    with output_file.open('w') as f:\n",
    "        json.dump(chunk, f, indent=4)\n",
    "    print(f'Saved {len(chunk)} dictionaries to {output_file}')"
   ]
  }
 ],
 "metadata": {
  "kernelspec": {
   "display_name": ".venv",
   "language": "python",
   "name": "python3"
  },
  "language_info": {
   "codemirror_mode": {
    "name": "ipython",
    "version": 3
   },
   "file_extension": ".py",
   "mimetype": "text/x-python",
   "name": "python",
   "nbconvert_exporter": "python",
   "pygments_lexer": "ipython3",
   "version": "3.12.0"
  }
 },
 "nbformat": 4,
 "nbformat_minor": 2
}
