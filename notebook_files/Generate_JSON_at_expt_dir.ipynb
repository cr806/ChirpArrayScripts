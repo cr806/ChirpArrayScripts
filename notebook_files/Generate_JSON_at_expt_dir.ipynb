{
 "cells": [
  {
   "cell_type": "code",
   "execution_count": 1,
   "metadata": {},
   "outputs": [],
   "source": [
    "import shutil\n",
    "import os\n",
    "\n",
    "from pathlib import Path"
   ]
  },
  {
   "cell_type": "code",
   "execution_count": 4,
   "metadata": {},
   "outputs": [],
   "source": [
    "directory = Path('/Volumes/krauss/Lisa/GMR/Array/250318/sensor_3_Ecoli/loc1_sensor2_1/Pos0')\n",
    "original_name = Path('image_metadata_SU000001.json')\n",
    "new_name = Path('image_metadata_SU000001.json')\n",
    "number_of_copies = 14"
   ]
  },
  {
   "cell_type": "code",
   "execution_count": 5,
   "metadata": {},
   "outputs": [
    {
     "name": "stdout",
     "output_type": "stream",
     "text": [
      "Created copy: image_metadata_SU000001_1.json\n",
      "Created copy: image_metadata_SU000001_2.json\n",
      "Created copy: image_metadata_SU000001_3.json\n",
      "Created copy: image_metadata_SU000001_4.json\n",
      "Created copy: image_metadata_SU000001_5.json\n",
      "Created copy: image_metadata_SU000001_6.json\n",
      "Created copy: image_metadata_SU000001_7.json\n",
      "Created copy: image_metadata_SU000001_8.json\n",
      "Created copy: image_metadata_SU000001_9.json\n",
      "Created copy: image_metadata_SU000001_10.json\n",
      "Created copy: image_metadata_SU000001_11.json\n",
      "Created copy: image_metadata_SU000001_12.json\n",
      "Created copy: image_metadata_SU000001_13.json\n",
      "Created copy: image_metadata_SU000001_14.json\n"
     ]
    }
   ],
   "source": [
    "try:\n",
    "    # Create multiple numbered copies of second file\n",
    "    base_name = new_name.stem\n",
    "    ext = new_name.suffix\n",
    "    for i in range(1, number_of_copies + 1):\n",
    "        numbered_name = f'{base_name}_{i}{ext}'\n",
    "        dest_path_numbered = Path(directory, numbered_name)\n",
    "        original_path = Path(directory, original_name)\n",
    "        shutil.copy2(original_path, dest_path_numbered)\n",
    "        print(f\"Created copy: {numbered_name}\")\n",
    "        \n",
    "except FileNotFoundError as e:\n",
    "    print(f\"Error: File not found - {e}\")\n",
    "except PermissionError as e:\n",
    "    print(f\"Error: Permission denied - {e}\")\n",
    "except Exception as e:\n",
    "    print(f\"An unexpected error occurred: {e}\")\n"
   ]
  },
  {
   "cell_type": "code",
   "execution_count": 5,
   "metadata": {},
   "outputs": [
    {
     "name": "stdout",
     "output_type": "stream",
     "text": [
      "True\n"
     ]
    }
   ],
   "source": [
    "print(Path('/Volumes/krauss').is_mount())  # Should return True if mounted"
   ]
  }
 ],
 "metadata": {
  "kernelspec": {
   "display_name": ".venv",
   "language": "python",
   "name": "python3"
  },
  "language_info": {
   "codemirror_mode": {
    "name": "ipython",
    "version": 3
   },
   "file_extension": ".py",
   "mimetype": "text/x-python",
   "name": "python",
   "nbconvert_exporter": "python",
   "pygments_lexer": "ipython3",
   "version": "3.12.0"
  }
 },
 "nbformat": 4,
 "nbformat_minor": 2
}
